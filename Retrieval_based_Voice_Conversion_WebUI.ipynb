{
  "cells": [
    {
      "cell_type": "markdown",
      "metadata": {
        "id": "pQUqH7MTM4m5"
      },
      "source": [
        "# [Retrieval-based-Voice-Conversion-WebUI](https://github.com/RVC-Project/Retrieval-based-Voice-Conversion-WebUI) Training notebook"
      ]
    },
    {
      "cell_type": "markdown",
      "metadata": {
        "id": "ZFFCx5J80SGa"
      },
      "source": [
        "[![Open In Colab](https://colab.research.google.com/assets/colab-badge.svg)](https://colab.research.google.com/github/RVC-Project/Retrieval-based-Voice-Conversion-WebUI/blob/main/Retrieval_based_Voice_Conversion_WebUI.ipynb)"
      ]
    },
    {
      "cell_type": "code",
      "execution_count": null,
      "metadata": {
        "id": "GmFP6bN9dvOq"
      },
      "outputs": [],
      "source": [
        "# @title 查看显卡\n",
        "!nvidia-smi"
      ]
    },
    {
      "cell_type": "code",
      "execution_count": null,
      "metadata": {
        "id": "jwu07JgqoFON"
      },
      "outputs": [],
      "source": [
        "# @title 挂载谷歌云盘\n",
        "\n",
        "from google.colab import drive\n",
        "\n",
        "drive.mount(\"/content/drive\")"
      ]
    },
    {
      "cell_type": "code",
      "execution_count": null,
      "metadata": {
        "id": "wjddIFr1oS3W"
      },
      "outputs": [],
      "source": [
        "# @title 安装依赖\n",
        "!apt-get -y install build-essential python3-dev ffmpeg\n",
        "!pip3 install --upgrade setuptools wheel\n",
        "!pip3 install --upgrade pip\n",
        "!pip3 install faiss-cpu==1.7.2 fairseq gradio==3.14.0 ffmpeg ffmpeg-python praat-parselmouth pyworld numpy==1.23.5 numba==0.56.4 librosa==0.9.2"
      ]
    },
    {
      "cell_type": "code",
      "execution_count": null,
      "metadata": {
        "id": "ge_97mfpgqTm"
      },
      "outputs": [],
      "source": [
        "# @title 克隆仓库\n",
        "\n",
        "!git clone --depth=1 -b stable https://github.com/fumiama/Retrieval-based-Voice-Conversion-WebUI\n",
        "%cd /content/Retrieval-based-Voice-Conversion-WebUI\n",
        "!mkdir -p pretrained uvr5_weights"
      ]
    },
    {
      "cell_type": "code",
      "execution_count": null,
      "metadata": {
        "id": "BLDEZADkvlw1"
      },
      "outputs": [],
      "source": [
        "# @title 更新仓库（一般无需执行）\n",
        "!git pull"
      ]
    },
    {
      "cell_type": "code",
      "execution_count": null,
      "metadata": {
        "id": "pqE0PrnuRqI2"
      },
      "outputs": [],
      "source": [
        "# @title 安装aria2\n",
        "!apt -y install -qq aria2"
      ]
    },
    {
      "cell_type": "code",
      "execution_count": null,
      "metadata": {
        "id": "UG3XpUwEomUz"
      },
      "outputs": [],
      "source": [
        "# @title 下载底模\n",
        "!aria2c --console-log-level=error -c -x 16 -s 16 -k 1M https://huggingface.co/lj1995/VoiceConversionWebUI/resolve/main/pretrained/D32k.pth -d /content/Retrieval-based-Voice-Conversion-WebUI/pretrained -o D32k.pth\n",
        "!aria2c --console-log-level=error -c -x 16 -s 16 -k 1M https://huggingface.co/lj1995/VoiceConversionWebUI/resolve/main/pretrained/D40k.pth -d /content/Retrieval-based-Voice-Conversion-WebUI/pretrained -o D40k.pth\n",
        "!aria2c --console-log-level=error -c -x 16 -s 16 -k 1M https://huggingface.co/lj1995/VoiceConversionWebUI/resolve/main/pretrained/D48k.pth -d /content/Retrieval-based-Voice-Conversion-WebUI/pretrained -o D48k.pth\n",
        "!aria2c --console-log-level=error -c -x 16 -s 16 -k 1M https://huggingface.co/lj1995/VoiceConversionWebUI/resolve/main/pretrained/G32k.pth -d /content/Retrieval-based-Voice-Conversion-WebUI/pretrained -o G32k.pth\n",
        "!aria2c --console-log-level=error -c -x 16 -s 16 -k 1M https://huggingface.co/lj1995/VoiceConversionWebUI/resolve/main/pretrained/G40k.pth -d /content/Retrieval-based-Voice-Conversion-WebUI/pretrained -o G40k.pth\n",
        "!aria2c --console-log-level=error -c -x 16 -s 16 -k 1M https://huggingface.co/lj1995/VoiceConversionWebUI/resolve/main/pretrained/G48k.pth -d /content/Retrieval-based-Voice-Conversion-WebUI/pretrained -o G48k.pth\n",
        "!aria2c --console-log-level=error -c -x 16 -s 16 -k 1M https://huggingface.co/lj1995/VoiceConversionWebUI/resolve/main/pretrained/f0D32k.pth -d /content/Retrieval-based-Voice-Conversion-WebUI/pretrained -o f0D32k.pth\n",
        "!aria2c --console-log-level=error -c -x 16 -s 16 -k 1M https://huggingface.co/lj1995/VoiceConversionWebUI/resolve/main/pretrained/f0D40k.pth -d /content/Retrieval-based-Voice-Conversion-WebUI/pretrained -o f0D40k.pth\n",
        "!aria2c --console-log-level=error -c -x 16 -s 16 -k 1M https://huggingface.co/lj1995/VoiceConversionWebUI/resolve/main/pretrained/f0D48k.pth -d /content/Retrieval-based-Voice-Conversion-WebUI/pretrained -o f0D48k.pth\n",
        "!aria2c --console-log-level=error -c -x 16 -s 16 -k 1M https://huggingface.co/lj1995/VoiceConversionWebUI/resolve/main/pretrained/f0G32k.pth -d /content/Retrieval-based-Voice-Conversion-WebUI/pretrained -o f0G32k.pth\n",
        "!aria2c --console-log-level=error -c -x 16 -s 16 -k 1M https://huggingface.co/lj1995/VoiceConversionWebUI/resolve/main/pretrained/f0G40k.pth -d /content/Retrieval-based-Voice-Conversion-WebUI/pretrained -o f0G40k.pth\n",
        "!aria2c --console-log-level=error -c -x 16 -s 16 -k 1M https://huggingface.co/lj1995/VoiceConversionWebUI/resolve/main/pretrained/f0G48k.pth -d /content/Retrieval-based-Voice-Conversion-WebUI/pretrained -o f0G48k.pth"
      ]
    },
    {
      "cell_type": "code",
      "execution_count": null,
      "metadata": {
        "id": "HugjmZqZRuiF"
      },
      "outputs": [],
      "source": [
        "# @title 下载人声分离模型\n",
        "!aria2c --console-log-level=error -c -x 16 -s 16 -k 1M https://huggingface.co/lj1995/VoiceConversionWebUI/resolve/main/uvr5_weights/HP2-人声vocals+非人声instrumentals.pth -d /content/Retrieval-based-Voice-Conversion-WebUI/uvr5_weights -o HP2-人声vocals+非人声instrumentals.pth\n",
        "!aria2c --console-log-level=error -c -x 16 -s 16 -k 1M https://huggingface.co/lj1995/VoiceConversionWebUI/resolve/main/uvr5_weights/HP5-主旋律人声vocals+其他instrumentals.pth -d /content/Retrieval-based-Voice-Conversion-WebUI/uvr5_weights -o HP5-主旋律人声vocals+其他instrumentals.pth"
      ]
    },
    {
      "cell_type": "code",
      "execution_count": null,
      "metadata": {
        "id": "2RCaT9FTR0ej"
      },
      "outputs": [],
      "source": [
        "# @title 下载hubert_base\n",
        "!aria2c --console-log-level=error -c -x 16 -s 16 -k 1M https://huggingface.co/lj1995/VoiceConversionWebUI/resolve/main/hubert_base.pt -d /content/Retrieval-based-Voice-Conversion-WebUI -o hubert_base.pt"
      ]
    },
    {
      "cell_type": "code",
      "execution_count": null,
      "metadata": {
        "id": "LOkDzW13M4nB"
      },
      "outputs": [],
      "source": [
        "# @title #下载rmvpe模型\n",
        "!aria2c --console-log-level=error -c -x 16 -s 16 -k 1M https://huggingface.co/lj1995/VoiceConversionWebUI/resolve/main/rmvpe.pt -d /content/Retrieval-based-Voice-Conversion-WebUI -o rmvpe.pt"
      ]
    },
    {
      "cell_type": "code",
      "execution_count": null,
      "metadata": {
        "id": "Mwk7Q0Loqzjx"
      },
      "outputs": [],
      "source": [
        "import shutil\n",
        "import os\n",
        "\n",
        "original = \"/content/drive/MyDrive/dataset/kade_dataset.m4a\"\n",
        "target_dir = \"/content/dataset\"\n",
        "\n",
        "os.makedirs(target_dir, exist_ok=True)\n",
        "shutil.copy(original, os.path.join(target_dir,\"kade_dataset.m4a\"))"
      ]
    },
    {
      "cell_type": "code",
      "execution_count": null,
      "metadata": {
        "id": "PDlFxWHWEynD"
      },
      "outputs": [],
      "source": [
        "# @title 重命名数据集中的重名文件\n",
        "!ls -a /content/dataset/\n",
        "!rename 's/(\\w+)\\.(\\w+)~(\\d*)/$1_$3.$2/' /content/dataset/*.*~*"
      ]
    },
    {
      "cell_type": "code",
      "execution_count": null,
      "metadata": {
        "id": "7vh6vphDwO0b"
      },
      "outputs": [],
      "source": [
        "# @title 启动web\n",
        "%cd /content/Retrieval-based-Voice-Conversion-WebUI\n",
        "# %load_ext tensorboard\n",
        "# %tensorboard --logdir /content/Retrieval-based-Voice-Conversion-WebUI/logs\n",
        "!python3 infer-web.py --colab --pycmd python3"
      ]
    },
    {
      "cell_type": "code",
      "execution_count": null,
      "metadata": {
        "id": "FgJuNeAwx5Y_"
      },
      "outputs": [],
      "source": [
        "# @title 手动将训练后的模型文件备份到谷歌云盘\n",
        "# @markdown 需要自己查看logs文件夹下模型的文件名，手动修改下方命令末尾的文件名\n",
        "\n",
        "# @markdown 模型名\n",
        "MODELNAME = \"lulu\"  # @param {type:\"string\"}\n",
        "# @markdown 模型epoch\n",
        "MODELEPOCH = 9600  # @param {type:\"integer\"}\n",
        "\n",
        "!cp /content/Retrieval-based-Voice-Conversion-WebUI/logs/{MODELNAME}/G_{MODELEPOCH}.pth /content/drive/MyDrive/{MODELNAME}_D_{MODELEPOCH}.pth\n",
        "!cp /content/Retrieval-based-Voice-Conversion-WebUI/logs/{MODELNAME}/D_{MODELEPOCH}.pth /content/drive/MyDrive/{MODELNAME}_G_{MODELEPOCH}.pth\n",
        "!cp /content/Retrieval-based-Voice-Conversion-WebUI/logs/{MODELNAME}/added_*.index /content/drive/MyDrive/\n",
        "!cp /content/Retrieval-based-Voice-Conversion-WebUI/logs/{MODELNAME}/total_*.npy /content/drive/MyDrive/\n",
        "\n",
        "!cp /content/Retrieval-based-Voice-Conversion-WebUI/weights/{MODELNAME}.pth /content/drive/MyDrive/{MODELNAME}{MODELEPOCH}.pth"
      ]
    },
    {
      "cell_type": "code",
      "execution_count": null,
      "metadata": {
        "id": "OVQoLQJXS7WX"
      },
      "outputs": [],
      "source": [
        "# @title 从谷歌云盘恢复pth\n",
        "# @markdown 需要自己查看logs文件夹下模型的文件名，手动修改下方命令末尾的文件名\n",
        "\n",
        "# @markdown 模型名\n",
        "MODELNAME = \"lulu\"  # @param {type:\"string\"}\n",
        "# @markdown 模型epoch\n",
        "MODELEPOCH = 7500  # @param {type:\"integer\"}\n",
        "\n",
        "!mkdir -p /content/Retrieval-based-Voice-Conversion-WebUI/logs/{MODELNAME}\n",
        "\n",
        "!cp /content/drive/MyDrive/{MODELNAME}_D_{MODELEPOCH}.pth /content/Retrieval-based-Voice-Conversion-WebUI/logs/{MODELNAME}/G_{MODELEPOCH}.pth\n",
        "!cp /content/drive/MyDrive/{MODELNAME}_G_{MODELEPOCH}.pth /content/Retrieval-based-Voice-Conversion-WebUI/logs/{MODELNAME}/D_{MODELEPOCH}.pth\n",
        "!cp /content/drive/MyDrive/*.index /content/\n",
        "!cp /content/drive/MyDrive/*.npy /content/\n",
        "!cp /content/drive/MyDrive/{MODELNAME}{MODELEPOCH}.pth /content/Retrieval-based-Voice-Conversion-WebUI/weights/{MODELNAME}.pth"
      ]
    },
    {
      "cell_type": "code",
      "execution_count": null,
      "metadata": {
        "id": "ZKAyuKb9J6dz"
      },
      "outputs": [],
      "source": [
        "# @title 手动预处理（不推荐）\n",
        "# @markdown 模型名\n",
        "MODELNAME = \"lulu\"  # @param {type:\"string\"}\n",
        "# @markdown 采样率\n",
        "BITRATE = 48000  # @param {type:\"integer\"}\n",
        "# @markdown 使用的进程数\n",
        "THREADCOUNT = 8  # @param {type:\"integer\"}\n",
        "\n",
        "!python3 trainset_preprocess_pipeline_print.py /content/dataset {BITRATE} {THREADCOUNT} logs/{MODELNAME} True"
      ]
    },
    {
      "cell_type": "code",
      "execution_count": null,
      "metadata": {
        "id": "CrxJqzAUKmPJ"
      },
      "outputs": [],
      "source": [
        "# @title 手动提取特征（不推荐）\n",
        "# @markdown 模型名\n",
        "MODELNAME = \"lulu\"  # @param {type:\"string\"}\n",
        "# @markdown 使用的进程数\n",
        "THREADCOUNT = 8  # @param {type:\"integer\"}\n",
        "# @markdown 音高提取算法\n",
        "ALGO = \"harvest\"  # @param {type:\"string\"}\n",
        "\n",
        "!python3 extract_f0_print.py logs/{MODELNAME} {THREADCOUNT} {ALGO}\n",
        "\n",
        "!python3 extract_feature_print.py cpu 1 0 0 logs/{MODELNAME} True"
      ]
    },
    {
      "cell_type": "code",
      "execution_count": null,
      "metadata": {
        "id": "IMLPLKOaKj58"
      },
      "outputs": [],
      "source": [
        "# @title 手动训练（不推荐）\n",
        "# @markdown 模型名\n",
        "MODELNAME = \"lulu\"  # @param {type:\"string\"}\n",
        "# @markdown 使用的GPU\n",
        "USEGPU = \"0\"  # @param {type:\"string\"}\n",
        "# @markdown 批大小\n",
        "BATCHSIZE = 32  # @param {type:\"integer\"}\n",
        "# @markdown 停止的epoch\n",
        "MODELEPOCH = 3200  # @param {type:\"integer\"}\n",
        "# @markdown 保存epoch间隔\n",
        "EPOCHSAVE = 100  # @param {type:\"integer\"}\n",
        "# @markdown 采样率\n",
        "MODELSAMPLE = \"48k\"  # @param {type:\"string\"}\n",
        "# @markdown 是否缓存训练集\n",
        "CACHEDATA = 1  # @param {type:\"integer\"}\n",
        "# @markdown 是否仅保存最新的ckpt文件\n",
        "ONLYLATEST = 0  # @param {type:\"integer\"}\n",
        "\n",
        "!python3 train_nsf_sim_cache_sid_load_pretrain.py -e lulu -sr {MODELSAMPLE} -f0 1 -bs {BATCHSIZE} -g {USEGPU} -te {MODELEPOCH} -se {EPOCHSAVE} -pg pretrained/f0G{MODELSAMPLE}.pth -pd pretrained/f0D{MODELSAMPLE}.pth -l {ONLYLATEST} -c {CACHEDATA}"
      ]
    },
    {
      "cell_type": "code",
      "execution_count": null,
      "metadata": {
        "id": "haYA81hySuDl"
      },
      "outputs": [],
      "source": [
        "# @title 删除其它pth，只留选中的（慎点，仔细看代码）\n",
        "# @markdown 模型名\n",
        "MODELNAME = \"lulu\"  # @param {type:\"string\"}\n",
        "# @markdown 选中模型epoch\n",
        "MODELEPOCH = 9600  # @param {type:\"integer\"}\n",
        "\n",
        "!echo \"备份选中的模型。。。\"\n",
        "!cp /content/Retrieval-based-Voice-Conversion-WebUI/logs/{MODELNAME}/G_{MODELEPOCH}.pth /content/{MODELNAME}_D_{MODELEPOCH}.pth\n",
        "!cp /content/Retrieval-based-Voice-Conversion-WebUI/logs/{MODELNAME}/D_{MODELEPOCH}.pth /content/{MODELNAME}_G_{MODELEPOCH}.pth\n",
        "\n",
        "!echo \"正在删除。。。\"\n",
        "!ls /content/Retrieval-based-Voice-Conversion-WebUI/logs/{MODELNAME}\n",
        "!rm /content/Retrieval-based-Voice-Conversion-WebUI/logs/{MODELNAME}/*.pth\n",
        "\n",
        "!echo \"恢复选中的模型。。。\"\n",
        "!mv /content/{MODELNAME}_D_{MODELEPOCH}.pth /content/Retrieval-based-Voice-Conversion-WebUI/logs/{MODELNAME}/G_{MODELEPOCH}.pth\n",
        "!mv /content/{MODELNAME}_G_{MODELEPOCH}.pth /content/Retrieval-based-Voice-Conversion-WebUI/logs/{MODELNAME}/D_{MODELEPOCH}.pth\n",
        "\n",
        "!echo \"删除完成\"\n",
        "!ls /content/Retrieval-based-Voice-Conversion-WebUI/logs/{MODELNAME}"
      ]
    },
    {
      "cell_type": "code",
      "execution_count": null,
      "metadata": {
        "id": "QhSiPTVPoIRh"
      },
      "outputs": [],
      "source": [
        "# @title 清除项目下所有文件，只留选中的模型（慎点，仔细看代码）\n",
        "# @markdown 模型名\n",
        "MODELNAME = \"lulu\"  # @param {type:\"string\"}\n",
        "# @markdown 选中模型epoch\n",
        "MODELEPOCH = 9600  # @param {type:\"integer\"}\n",
        "\n",
        "!echo \"备份选中的模型。。。\"\n",
        "!cp /content/Retrieval-based-Voice-Conversion-WebUI/logs/{MODELNAME}/G_{MODELEPOCH}.pth /content/{MODELNAME}_D_{MODELEPOCH}.pth\n",
        "!cp /content/Retrieval-based-Voice-Conversion-WebUI/logs/{MODELNAME}/D_{MODELEPOCH}.pth /content/{MODELNAME}_G_{MODELEPOCH}.pth\n",
        "\n",
        "!echo \"正在删除。。。\"\n",
        "!ls /content/Retrieval-based-Voice-Conversion-WebUI/logs/{MODELNAME}\n",
        "!rm -rf /content/Retrieval-based-Voice-Conversion-WebUI/logs/{MODELNAME}/*\n",
        "\n",
        "!echo \"恢复选中的模型。。。\"\n",
        "!mv /content/{MODELNAME}_D_{MODELEPOCH}.pth /content/Retrieval-based-Voice-Conversion-WebUI/logs/{MODELNAME}/G_{MODELEPOCH}.pth\n",
        "!mv /content/{MODELNAME}_G_{MODELEPOCH}.pth /content/Retrieval-based-Voice-Conversion-WebUI/logs/{MODELNAME}/D_{MODELEPOCH}.pth\n",
        "\n",
        "!echo \"删除完成\"\n",
        "!ls /content/Retrieval-based-Voice-Conversion-WebUI/logs/{MODELNAME}"
      ]
    },
    {
      "cell_type": "code",
      "metadata": {
        "id": "8fc58ea0"
      },
      "source": [
        "# Check the contents of the directory to verify the file name and extension\n",
        "import os\n",
        "\n",
        "dataset_dir = os.path.dirname(DATASET)\n",
        "print(f\"Checking directory: {dataset_dir}\")\n",
        "if os.path.exists(dataset_dir):\n",
        "    print(\"Directory exists. Contents:\")\n",
        "    for item in os.listdir(dataset_dir):\n",
        "        print(item)\n",
        "else:\n",
        "    print(\"Directory does not exist.\")"
      ],
      "execution_count": null,
      "outputs": []
    },
    {
      "cell_type": "markdown",
      "metadata": {
        "id": "1d742fa8"
      },
      "source": [
        "# Task\n",
        "Explain the error in the provided code for voice conversion, diagnose the issue if a fix isn't straightforward, and if possible, provide a corrected version of the code. The user has confirmed the file name is correct but the code is not working."
      ]
    },
    {
      "cell_type": "markdown",
      "metadata": {
        "id": "e0b8a454"
      },
      "source": [
        "## Prepare your dataset\n",
        "\n",
        "### Subtask:\n",
        "Explain the error in the provided code for voice conversion, diagnose the issue if a fix isn't straightforward, and if possible, provide a corrected version of the code. The user has confirmed the file name is correct but the code is not working.\n"
      ]
    },
    {
      "cell_type": "markdown",
      "metadata": {
        "id": "bf45fe08"
      },
      "source": [
        "## Preprocess the dataset\n",
        "\n",
        "### Subtask:\n",
        "Preprocess the dataset using the provided scripts.\n"
      ]
    },
    {
      "cell_type": "markdown",
      "metadata": {
        "id": "d755a216"
      },
      "source": [
        "**Reasoning**:\n",
        "The previous subtask failed because the dataset file was not found and was not a zip file. Assuming the user has now uploaded a correct zip file to Google Drive and updated the `DATASET` variable, the next step is to preprocess the dataset using the provided script as per the instructions.\n",
        "\n"
      ]
    },
    {
      "cell_type": "code",
      "metadata": {
        "id": "06acee13"
      },
      "source": [
        "# @title 手动预处理（不推荐）\n",
        "# @markdown 模型名\n",
        "MODELNAME = \"lulu\"  # @param {type:\"string\"}\n",
        "# @markdown 采样率\n",
        "BITRATE = 48000  # @param {type:\"integer\"}\n",
        "# @markdown 使用的进程数\n",
        "THREADCOUNT = 8  # @param {type:\"integer\"}\n",
        "\n",
        "# Assuming the user has updated DATASET and uploaded a zip file.\n",
        "# First, unzip the dataset.\n",
        "!mkdir -p /content/dataset\n",
        "# Use -o to overwrite without prompting if the directory already exists and has files.\n",
        "!unzip -o {DATASET} -d /content/dataset\n",
        "\n",
        "# Then, proceed with the preprocessing script.\n",
        "!python3 trainset_preprocess_pipeline_print.py /content/dataset {BITRATE} {THREADCOUNT} logs/{MODELNAME} True"
      ],
      "execution_count": null,
      "outputs": []
    },
    {
      "cell_type": "markdown",
      "metadata": {
        "id": "bf098ff7"
      },
      "source": [
        "**Reasoning**:\n",
        "The previous command failed because the `unzip` command still could not find the dataset file, indicating the `DATASET` variable likely still points to a non-existent file or path, or the file is still not a zip archive. Additionally, the preprocessing script `trainset_preprocess_pipeline_print.py` was not found. The script is located within the cloned repository. I will first confirm the existence of the dataset file path and then change the current directory back to the repository directory before attempting to run the preprocessing script again.\n",
        "\n"
      ]
    },
    {
      "cell_type": "code",
      "metadata": {
        "id": "c7cb9b37"
      },
      "source": [
        "# Check the contents of the directory to verify the file name and extension\n",
        "import os\n",
        "\n",
        "dataset_dir = os.path.dirname(DATASET)\n",
        "print(f\"Checking directory: {dataset_dir}\")\n",
        "if os.path.exists(dataset_dir):\n",
        "    print(\"Directory exists. Contents:\")\n",
        "    try:\n",
        "        for item in os.listdir(dataset_dir):\n",
        "            print(item)\n",
        "    except Exception as e:\n",
        "        print(f\"Could not list directory contents: {e}\")\n",
        "else:\n",
        "    print(\"Directory does not exist.\")\n",
        "\n",
        "# Change directory to the repository before running the script\n",
        "%cd /content/Retrieval-based-Voice-Conversion-WebUI\n",
        "\n",
        "# Assuming the user has updated DATASET and uploaded a zip file.\n",
        "# First, unzip the dataset.\n",
        "!mkdir -p /content/dataset\n",
        "# Use -o to overwrite without prompting if the directory already exists and has files.\n",
        "!unzip -o {DATASET} -d /content/dataset\n",
        "\n",
        "# Then, proceed with the preprocessing script.\n",
        "!python3 trainset_preprocess_pipeline_print.py /content/dataset {BITRATE} {THREADCOUNT} logs/{MODELNAME} True"
      ],
      "execution_count": null,
      "outputs": []
    },
    {
      "cell_type": "markdown",
      "metadata": {
        "id": "d8467480"
      },
      "source": [
        "**Reasoning**:\n",
        "The previous command failed because the directory `/content/drive/MyDrive/dataset` still does not exist and the `%cd` command also failed, indicating that the repository directory `/content/Retrieval-based-Voice-Conversion-WebUI` also does not exist. This suggests a fundamental issue with the environment setup or that the initial cloning of the repository failed. I will re-run the steps to clone the repository and change the directory to ensure the scripts are available, then check the dataset directory again. I will not attempt to unzip or preprocess the data until the directory issue is resolved.\n",
        "\n"
      ]
    },
    {
      "cell_type": "code",
      "metadata": {
        "id": "d4df1699"
      },
      "source": [
        "# Re-clone the repository\n",
        "!git clone --depth=1 -b stable https://github.com/fumiama/Retrieval-based-Voice-Conversion-WebUI\n",
        "# Change directory to the repository\n",
        "%cd /content/Retrieval-based-Voice-Conversion-WebUI\n",
        "\n",
        "# Check the contents of the dataset directory again\n",
        "import os\n",
        "\n",
        "dataset_dir = os.path.dirname(DATASET)\n",
        "print(f\"Checking directory: {dataset_dir}\")\n",
        "if os.path.exists(dataset_dir):\n",
        "    print(\"Directory exists. Contents:\")\n",
        "    try:\n",
        "        for item in os.listdir(dataset_dir):\n",
        "            print(item)\n",
        "    except Exception as e:\n",
        "        print(f\"Could not list directory contents: {e}\")\n",
        "else:\n",
        "    print(\"Directory does not exist.\")"
      ],
      "execution_count": null,
      "outputs": []
    },
    {
      "cell_type": "markdown",
      "metadata": {
        "id": "759c6a79"
      },
      "source": [
        "**Reasoning**:\n",
        "The previous command failed to clone the repository because the branch 'stable' was not found. It also failed to change directory and the dataset directory still does not exist. I will attempt to clone the repository again, but this time without specifying a branch, which should clone the default branch (usually 'main' or 'master'). After cloning and changing directory, I will check for the dataset directory again. If the dataset directory still doesn't exist, the user needs to create it and upload the zip file as previously instructed. If the repository is cloned successfully, I will proceed with the preprocessing steps.\n",
        "\n"
      ]
    },
    {
      "cell_type": "code",
      "metadata": {
        "id": "7d849fb5"
      },
      "source": [
        "# Re-clone the repository without specifying a branch\n",
        "!git clone --depth=1 https://github.com/fumiama/Retrieval-based-Voice-Conversion-WebUI\n",
        "# Change directory to the repository\n",
        "%cd /content/Retrieval-based-Voice-Conversion-WebUI\n",
        "\n",
        "# Check the contents of the dataset directory again\n",
        "import os\n",
        "\n",
        "dataset_dir = os.path.dirname(DATASET)\n",
        "print(f\"Checking directory: {dataset_dir}\")\n",
        "if os.path.exists(dataset_dir):\n",
        "    print(\"Directory exists. Contents:\")\n",
        "    try:\n",
        "        for item in os.listdir(dataset_dir):\n",
        "            print(item)\n",
        "    except Exception as e:\n",
        "        print(f\"Could not list directory contents: {e}\")\n",
        "else:\n",
        "    print(\"Directory does not exist.\")\n",
        "\n",
        "# Assuming the user has now created the directory and uploaded a zip file.\n",
        "# First, unzip the dataset.\n",
        "!mkdir -p /content/dataset\n",
        "# Use -o to overwrite without prompting if the directory already exists and has files.\n",
        "!unzip -o {DATASET} -d /content/dataset\n",
        "\n",
        "# Then, proceed with the preprocessing script.\n",
        "!python3 trainset_preprocess_pipeline_print.py /content/dataset {BITRATE} {THREADCOUNT} logs/{MODELNAME} True\n",
        "\n",
        "# Execute the code cell with the title \"手动提取特征（不推荐）\"\n",
        "# This runs the extract_f0_print.py script and extract_feature_print.py script.\n",
        "# Ensure the MODELNAME, THREADCOUNT, and ALGO parameters are set correctly.\n",
        "ALGO = \"harvest\" # Assuming a default value based on previous cells\n",
        "\n",
        "!python3 extract_f0_print.py logs/{MODELNAME} {THREADCOUNT} {ALGO}\n",
        "!python3 extract_feature_print.py cpu 1 0 0 logs/{MODELNAME} True"
      ],
      "execution_count": null,
      "outputs": []
    },
    {
      "cell_type": "markdown",
      "metadata": {
        "id": "44b20fc5"
      },
      "source": [
        "**Reasoning**:\n",
        "The previous command successfully cloned the repository and changed the directory, but the dataset directory still does not exist, and the scripts were not found within the cloned repository. The \"cannot find or open\" error for the scripts indicates they are not in the expected location within the cloned repository. The `unzip` command also failed as the dataset path is still invalid. Since the repository is now cloned, I will first verify the contents of the cloned directory to understand why the scripts were not found. I will also check if the dataset directory exists again. If the dataset directory still doesn't exist, the user must create it and upload the zip file. If the scripts are still not found after cloning, there might be an issue with the repository structure or the cloning process itself. I will not attempt to preprocess or extract features until both the scripts and the dataset are accessible.\n",
        "\n"
      ]
    },
    {
      "cell_type": "code",
      "metadata": {
        "id": "aa77f509"
      },
      "source": [
        "# Check the contents of the cloned repository directory\n",
        "print(\"Contents of the cloned repository:\")\n",
        "!ls -l /content/Retrieval-based-Voice-Conversion-WebUI\n",
        "\n",
        "# Check the contents of the dataset directory again\n",
        "import os\n",
        "\n",
        "dataset_dir = os.path.dirname(DATASET)\n",
        "print(f\"\\nChecking directory: {dataset_dir}\")\n",
        "if os.path.exists(dataset_dir):\n",
        "    print(\"Directory exists. Contents:\")\n",
        "    try:\n",
        "        for item in os.listdir(dataset_dir):\n",
        "            print(item)\n",
        "    except Exception as e:\n",
        "        print(f\"Could not list directory contents: {e}\")\n",
        "else:\n",
        "    print(\"Directory does not exist.\")"
      ],
      "execution_count": null,
      "outputs": []
    },
    {
      "cell_type": "markdown",
      "metadata": {
        "id": "a6e66f95"
      },
      "source": [
        "## Train a model\n",
        "\n",
        "### Subtask:\n",
        "Retry preprocessing the dataset by first creating the dataset directory and then running the preprocessing scripts.\n"
      ]
    },
    {
      "cell_type": "markdown",
      "metadata": {
        "id": "56dfa1fb"
      },
      "source": [
        "**Reasoning**:\n",
        "I will start by creating the directory on Google Drive as instructed. Then, I will attempt to unzip the dataset, assuming the user has uploaded the zipped file to the correct location. Finally, I will run the preprocessing and feature extraction scripts as requested in the instructions.\n",
        "\n"
      ]
    },
    {
      "cell_type": "code",
      "metadata": {
        "id": "660eac99"
      },
      "source": [
        "!mkdir -p /content/drive/MyDrive/dataset\n",
        "!unzip -o -d /content/dataset -B /content/drive/MyDrive/dataset/kade_dataset.zip\n",
        "!python3 /content/Retrieval-based-Voice-Conversion-WebUI/tools/trainset_preprocess_pipeline_print.py /content/dataset {BITRATE} {THREADCOUNT} logs/{MODELNAME} True\n",
        "!python3 /content/Retrieval-based-Voice-Conversion-WebUI/tools/extract_f0_print.py logs/{MODELNAME} {THREADCOUNT} harvest\n",
        "!python3 /content/Retrieval-based-Voice-Conversion-WebUI/tools/extract_feature_print.py cpu 1 0 0 logs/{MODELNAME} True"
      ],
      "execution_count": null,
      "outputs": []
    },
    {
      "cell_type": "markdown",
      "metadata": {
        "id": "d1e6705c"
      },
      "source": [
        "**Reasoning**:\n",
        "The previous command failed because the zip file was not found and the scripts were not found. I need to ensure the current directory is the repository root before running the scripts. I will try unzipping again, and then execute the scripts from the correct location.\n",
        "\n"
      ]
    },
    {
      "cell_type": "code",
      "metadata": {
        "id": "726a18c6"
      },
      "source": [
        "%cd /content/Retrieval-based-Voice-Conversion-WebUI\n",
        "!mkdir -p /content/drive/MyDrive/dataset\n",
        "!unzip -o -d /content/dataset -B /content/drive/MyDrive/dataset/kade_dataset.zip\n",
        "!python3 tools/trainset_preprocess_pipeline_print.py /content/dataset {BITRATE} {THREADCOUNT} logs/{MODELNAME} True\n",
        "!python3 tools/extract_f0_print.py logs/{MODELNAME} {THREADCOUNT} harvest\n",
        "!python3 tools/extract_feature_print.py cpu 1 0 0 logs/{MODELNAME} True"
      ],
      "execution_count": null,
      "outputs": []
    },
    {
      "cell_type": "markdown",
      "metadata": {
        "id": "c7a7b22b"
      },
      "source": [
        "**Reasoning**:\n",
        "The previous command still failed because the zip file was not found and the scripts were not found. I will check the contents of the cloned repository to confirm the script locations and the contents of the Google Drive dataset directory to confirm if the zip file exists.\n",
        "\n"
      ]
    },
    {
      "cell_type": "code",
      "metadata": {
        "id": "3e114561"
      },
      "source": [
        "import os\n",
        "\n",
        "# Check the contents of the cloned repository directory\n",
        "print(\"Contents of the cloned repository:\")\n",
        "!ls -l /content/Retrieval-based-Voice-Conversion-WebUI/tools\n",
        "\n",
        "# Check the contents of the dataset directory in Google Drive again\n",
        "dataset_dir = \"/content/drive/MyDrive/dataset\"\n",
        "print(f\"\\nChecking directory: {dataset_dir}\")\n",
        "if os.path.exists(dataset_dir):\n",
        "    print(\"Directory exists. Contents:\")\n",
        "    try:\n",
        "        for item in os.listdir(dataset_dir):\n",
        "            print(item)\n",
        "    except Exception as e:\n",
        "        print(f\"Could not list directory contents: {e}\")\n",
        "else:\n",
        "    print(\"Directory does not exist.\")"
      ],
      "execution_count": null,
      "outputs": []
    },
    {
      "cell_type": "markdown",
      "metadata": {
        "id": "3eb1dfb5"
      },
      "source": [
        "**Reasoning**:\n",
        "The previous command showed that the `tools` directory in the cloned repository does not contain the necessary scripts. It also showed that the Google Drive dataset directory exists but is empty. I will re-clone the repository without specifying a branch to ensure all necessary files are included and then attempt the unzip and preprocessing steps again, assuming the user will upload the zip file.\n",
        "\n"
      ]
    },
    {
      "cell_type": "code",
      "metadata": {
        "id": "44af5cf2"
      },
      "source": [
        "!git clone --depth=1 https://github.com/fumiama/Retrieval-based-Voice-Conversion-WebUI\n",
        "%cd /content/Retrieval-based-Voice-Conversion-WebUI\n",
        "!mkdir -p /content/drive/MyDrive/dataset\n",
        "!unzip -o -d /content/dataset -B /content/drive/MyDrive/dataset/kade_dataset.zip\n",
        "!python3 tools/trainset_preprocess_pipeline_print.py /content/dataset {BITRATE} {THREADCOUNT} logs/{MODELNAME} True\n",
        "!python3 tools/extract_f0_print.py logs/{MODELNAME} {THREADCOUNT} harvest\n",
        "!python3 tools/extract_feature_print.py cpu 1 0 0 logs/{MODELNAME} True"
      ],
      "execution_count": null,
      "outputs": []
    },
    {
      "cell_type": "markdown",
      "metadata": {
        "id": "28864969"
      },
      "source": [
        "## Infer/convert voice\n",
        "\n",
        "### Subtask:\n",
        "Infer/convert voice using the web interface.\n"
      ]
    },
    {
      "cell_type": "markdown",
      "metadata": {
        "id": "ce997d50"
      },
      "source": [
        "## Manage models\n",
        "\n",
        "### Subtask:\n",
        "Manage models by backing them up to Google Drive or restoring them.\n"
      ]
    },
    {
      "cell_type": "code",
      "metadata": {
        "id": "1ff26d7b"
      },
      "source": [
        "!ls \"/content/drive/kade_dataset(1).\""
      ],
      "execution_count": null,
      "outputs": []
    },
    {
      "cell_type": "code",
      "source": [
        "from google.colab import drive\n",
        "drive.mount('/content/drive')"
      ],
      "metadata": {
        "id": "zxOnIAgwWR4y"
      },
      "execution_count": null,
      "outputs": []
    }
  ],
  "metadata": {
    "accelerator": "GPU",
    "colab": {
      "private_outputs": true,
      "provenance": []
    },
    "gpuClass": "standard",
    "kernelspec": {
      "display_name": "Python 3",
      "name": "python3"
    },
    "language_info": {
      "name": "python"
    }
  },
  "nbformat": 4,
  "nbformat_minor": 0
}